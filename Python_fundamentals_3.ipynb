{
 "cells": [
  {
   "cell_type": "markdown",
   "id": "9162cb86",
   "metadata": {},
   "source": [
    "# Python Basics"
   ]
  },
  {
   "cell_type": "markdown",
   "id": "5f2ddba1",
   "metadata": {},
   "source": [
    "### Functions"
   ]
  },
  {
   "cell_type": "code",
   "execution_count": 7,
   "id": "56dc7350",
   "metadata": {},
   "outputs": [],
   "source": [
    "def my_func():\n",
    "    print('It\\'s learning hours!') #use escape '\\' for using ' inside"
   ]
  },
  {
   "cell_type": "code",
   "execution_count": 8,
   "id": "7ec80827",
   "metadata": {},
   "outputs": [
    {
     "name": "stdout",
     "output_type": "stream",
     "text": [
      "It's learning hours!\n"
     ]
    }
   ],
   "source": [
    "my_func()"
   ]
  },
  {
   "cell_type": "code",
   "execution_count": 9,
   "id": "99ae8fa1",
   "metadata": {},
   "outputs": [],
   "source": [
    "def my_func1(name):  #functions with parameters\n",
    "    print('It\\'s learning hours! '+ name)"
   ]
  },
  {
   "cell_type": "code",
   "execution_count": 14,
   "id": "06f990fd",
   "metadata": {},
   "outputs": [
    {
     "name": "stdout",
     "output_type": "stream",
     "text": [
      "It's learning hours! Silbia\n"
     ]
    }
   ],
   "source": [
    "my_func1('Silbia')"
   ]
  },
  {
   "cell_type": "code",
   "execution_count": 15,
   "id": "db917ccd",
   "metadata": {},
   "outputs": [],
   "source": [
    "def my_func2(name= 'You'): #functions with default parameters and doc strng\n",
    "    '''\n",
    "    This prints out the default parameters provide.\n",
    "    '''\n",
    "    print('It\\'s learning hours! '+ name)"
   ]
  },
  {
   "cell_type": "code",
   "execution_count": 16,
   "id": "b7be5a36",
   "metadata": {},
   "outputs": [
    {
     "name": "stdout",
     "output_type": "stream",
     "text": [
      "It's learning hours! You\n"
     ]
    }
   ],
   "source": [
    "my_func2() #shift+tab to view docstring"
   ]
  },
  {
   "cell_type": "code",
   "execution_count": 21,
   "id": "a72b3d9c",
   "metadata": {},
   "outputs": [],
   "source": [
    "def square(x):  #return saves the value\n",
    "    return x**2"
   ]
  },
  {
   "cell_type": "code",
   "execution_count": 22,
   "id": "378730cc",
   "metadata": {},
   "outputs": [],
   "source": [
    "result = square(2)"
   ]
  },
  {
   "cell_type": "code",
   "execution_count": 23,
   "id": "6346e9a3",
   "metadata": {},
   "outputs": [
    {
     "data": {
      "text/plain": [
       "4"
      ]
     },
     "execution_count": 23,
     "metadata": {},
     "output_type": "execute_result"
    }
   ],
   "source": [
    "result"
   ]
  },
  {
   "cell_type": "code",
   "execution_count": 24,
   "id": "dacb58bc",
   "metadata": {},
   "outputs": [
    {
     "data": {
      "text/plain": [
       "int"
      ]
     },
     "execution_count": 24,
     "metadata": {},
     "output_type": "execute_result"
    }
   ],
   "source": [
    "type(result)"
   ]
  },
  {
   "cell_type": "markdown",
   "id": "01104bd0",
   "metadata": {},
   "source": [
    "### Lambda Function"
   ]
  },
  {
   "cell_type": "code",
   "execution_count": 25,
   "id": "2dbce8f7",
   "metadata": {},
   "outputs": [],
   "source": [
    "def times_two(var):\n",
    "    return var*2"
   ]
  },
  {
   "cell_type": "code",
   "execution_count": 26,
   "id": "85e6e900",
   "metadata": {},
   "outputs": [
    {
     "data": {
      "text/plain": [
       "20"
      ]
     },
     "execution_count": 26,
     "metadata": {},
     "output_type": "execute_result"
    }
   ],
   "source": [
    "times_two(10)"
   ]
  },
  {
   "cell_type": "code",
   "execution_count": 27,
   "id": "8b76e256",
   "metadata": {},
   "outputs": [
    {
     "data": {
      "text/plain": [
       "<function __main__.<lambda>(var)>"
      ]
     },
     "execution_count": 27,
     "metadata": {},
     "output_type": "execute_result"
    }
   ],
   "source": [
    "lambda var: var*2"
   ]
  },
  {
   "cell_type": "markdown",
   "id": "67ba1a6e",
   "metadata": {},
   "source": [
    "### Methods"
   ]
  },
  {
   "cell_type": "code",
   "execution_count": 28,
   "id": "e1d0f989",
   "metadata": {},
   "outputs": [],
   "source": [
    "st = 'My name is Silbia'"
   ]
  },
  {
   "cell_type": "code",
   "execution_count": 29,
   "id": "88bfa169",
   "metadata": {},
   "outputs": [
    {
     "data": {
      "text/plain": [
       "'my name is silbia'"
      ]
     },
     "execution_count": 29,
     "metadata": {},
     "output_type": "execute_result"
    }
   ],
   "source": [
    "st.lower()"
   ]
  },
  {
   "cell_type": "code",
   "execution_count": 30,
   "id": "047ce0a7",
   "metadata": {},
   "outputs": [
    {
     "data": {
      "text/plain": [
       "'MY NAME IS SILBIA'"
      ]
     },
     "execution_count": 30,
     "metadata": {},
     "output_type": "execute_result"
    }
   ],
   "source": [
    "st.upper()"
   ]
  },
  {
   "cell_type": "code",
   "execution_count": 32,
   "id": "a4bbaee5",
   "metadata": {},
   "outputs": [
    {
     "data": {
      "text/plain": [
       "['My', 'name', 'is', 'Silbia']"
      ]
     },
     "execution_count": 32,
     "metadata": {},
     "output_type": "execute_result"
    }
   ],
   "source": [
    "st.split() #splits by default based on the whitespace"
   ]
  },
  {
   "cell_type": "code",
   "execution_count": 33,
   "id": "8657c953",
   "metadata": {},
   "outputs": [],
   "source": [
    "Insta = 'Good #food'"
   ]
  },
  {
   "cell_type": "code",
   "execution_count": 34,
   "id": "0c207be0",
   "metadata": {},
   "outputs": [
    {
     "data": {
      "text/plain": [
       "['Good ', 'food']"
      ]
     },
     "execution_count": 34,
     "metadata": {},
     "output_type": "execute_result"
    }
   ],
   "source": [
    "Insta.split('#')"
   ]
  }
 ],
 "metadata": {
  "kernelspec": {
   "display_name": "Python 3 (ipykernel)",
   "language": "python",
   "name": "python3"
  },
  "language_info": {
   "codemirror_mode": {
    "name": "ipython",
    "version": 3
   },
   "file_extension": ".py",
   "mimetype": "text/x-python",
   "name": "python",
   "nbconvert_exporter": "python",
   "pygments_lexer": "ipython3",
   "version": "3.9.6"
  }
 },
 "nbformat": 4,
 "nbformat_minor": 5
}
