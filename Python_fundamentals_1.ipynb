{
 "cells": [
  {
   "cell_type": "markdown",
   "id": "c3b00b21",
   "metadata": {},
   "source": [
    "# Python basics"
   ]
  },
  {
   "cell_type": "code",
   "execution_count": 1,
   "id": "6e93e46d",
   "metadata": {},
   "outputs": [
    {
     "data": {
      "text/plain": [
       "1"
      ]
     },
     "execution_count": 1,
     "metadata": {},
     "output_type": "execute_result"
    }
   ],
   "source": [
    "1 #integers"
   ]
  },
  {
   "cell_type": "code",
   "execution_count": 2,
   "id": "8603b7a3",
   "metadata": {},
   "outputs": [
    {
     "data": {
      "text/plain": [
       "int"
      ]
     },
     "execution_count": 2,
     "metadata": {},
     "output_type": "execute_result"
    }
   ],
   "source": [
    "type(1) #to check the type of any value provided"
   ]
  },
  {
   "cell_type": "code",
   "execution_count": 3,
   "id": "a2c82e49",
   "metadata": {},
   "outputs": [
    {
     "data": {
      "text/plain": [
       "1.2"
      ]
     },
     "execution_count": 3,
     "metadata": {},
     "output_type": "execute_result"
    }
   ],
   "source": [
    "1.2 #float"
   ]
  },
  {
   "cell_type": "code",
   "execution_count": 4,
   "id": "247ea5ef",
   "metadata": {},
   "outputs": [
    {
     "data": {
      "text/plain": [
       "float"
      ]
     },
     "execution_count": 4,
     "metadata": {},
     "output_type": "execute_result"
    }
   ],
   "source": [
    "type(1.2)"
   ]
  },
  {
   "cell_type": "markdown",
   "id": "8d6f39b3",
   "metadata": {},
   "source": [
    "### Arithmetic operations"
   ]
  },
  {
   "cell_type": "code",
   "execution_count": 18,
   "id": "22f246d2",
   "metadata": {},
   "outputs": [
    {
     "name": "stdout",
     "output_type": "stream",
     "text": [
      "2 1 6 0.5 8 1 50\n"
     ]
    }
   ],
   "source": [
    "add = 1+1 #addition\n",
    "sub = 2-1 #subtraction\n",
    "mul = 2*3 #multiplication\n",
    "div = 1/2 #division\n",
    "exp = 2**3 #exponetial\n",
    "mod = 5%2 #modulus\n",
    "order = (2+3)*(5+5) #order of operation by specifying parenthesis\n",
    "\n",
    "print(add, sub, mul, div, exp, mod, order)"
   ]
  },
  {
   "cell_type": "markdown",
   "id": "eb9e343b",
   "metadata": {},
   "source": [
    "### String Interpolation\n",
    "* A way to insert things into the strings"
   ]
  },
  {
   "cell_type": "code",
   "execution_count": 20,
   "id": "b8a2f99f",
   "metadata": {},
   "outputs": [
    {
     "name": "stdout",
     "output_type": "stream",
     "text": [
      "My name is Silbia\n"
     ]
    }
   ],
   "source": [
    "print(\"My name is {}\".format('Silbia')) #for single arguments"
   ]
  },
  {
   "cell_type": "code",
   "execution_count": 22,
   "id": "1b352f97",
   "metadata": {},
   "outputs": [
    {
     "name": "stdout",
     "output_type": "stream",
     "text": [
      "1.My name is Silbia, and my nationality is Indian\n"
     ]
    }
   ],
   "source": [
    "print(\"{}My name is {}, and my nationality is {}\".format('1.','Silbia','Indian')) #for multiple arguments"
   ]
  },
  {
   "cell_type": "code",
   "execution_count": 33,
   "id": "225120e8",
   "metadata": {},
   "outputs": [
    {
     "name": "stdout",
     "output_type": "stream",
     "text": [
      "First: YYY Second: XXX\n"
     ]
    }
   ],
   "source": [
    "print(\"First: {y} Second: {x}\".format(x='XXX', y='YYY'))# another method for better control over order "
   ]
  },
  {
   "cell_type": "markdown",
   "id": "aaad775c",
   "metadata": {},
   "source": [
    "### List \n",
    "* Square brackets and separated by commas"
   ]
  },
  {
   "cell_type": "code",
   "execution_count": 25,
   "id": "841391f5",
   "metadata": {
    "scrolled": true
   },
   "outputs": [
    {
     "name": "stdout",
     "output_type": "stream",
     "text": [
      "[1, 2, 3]\n"
     ]
    }
   ],
   "source": [
    "list_0 = [1,2,3]\n",
    "print(list_0)"
   ]
  },
  {
   "cell_type": "code",
   "execution_count": 9,
   "id": "81208df7",
   "metadata": {},
   "outputs": [
    {
     "name": "stdout",
     "output_type": "stream",
     "text": [
      "['a', 'b', 'c']\n"
     ]
    }
   ],
   "source": [
    "list_1 = ['a','b','c']\n",
    "print(list_1)"
   ]
  },
  {
   "cell_type": "code",
   "execution_count": 11,
   "id": "a9edd04e",
   "metadata": {},
   "outputs": [
    {
     "data": {
      "text/plain": [
       "True"
      ]
     },
     "execution_count": 11,
     "metadata": {},
     "output_type": "execute_result"
    }
   ],
   "source": [
    "'b' in list_1"
   ]
  },
  {
   "cell_type": "code",
   "execution_count": 31,
   "id": "0e091e89",
   "metadata": {},
   "outputs": [
    {
     "data": {
      "text/plain": [
       "'Silbia'"
      ]
     },
     "execution_count": 31,
     "metadata": {},
     "output_type": "execute_result"
    }
   ],
   "source": [
    "list_2 = [45,'Silbia']\n",
    "list_2[1] #grabbing items through indexing "
   ]
  },
  {
   "cell_type": "code",
   "execution_count": 32,
   "id": "f2130053",
   "metadata": {},
   "outputs": [
    {
     "data": {
      "text/plain": [
       "'Apple'"
      ]
     },
     "execution_count": 32,
     "metadata": {},
     "output_type": "execute_result"
    }
   ],
   "source": [
    "list_2 = [45,'Silbia','Apple']\n",
    "list_2[-1] #negative indexing, returns the last item in the list"
   ]
  },
  {
   "cell_type": "code",
   "execution_count": 35,
   "id": "288718bd",
   "metadata": {},
   "outputs": [
    {
     "data": {
      "text/plain": [
       "[45, 'Silbia', 'Dogs']"
      ]
     },
     "execution_count": 35,
     "metadata": {},
     "output_type": "execute_result"
    }
   ],
   "source": [
    "#changing an item from the list\n",
    "list_2[2] = \"Dogs\"\n",
    "list_2"
   ]
  },
  {
   "cell_type": "code",
   "execution_count": 36,
   "id": "93b09419",
   "metadata": {},
   "outputs": [
    {
     "data": {
      "text/plain": [
       "[45, 'Silbia', 'Dogs', 'Indian']"
      ]
     },
     "execution_count": 36,
     "metadata": {},
     "output_type": "execute_result"
    }
   ],
   "source": [
    "#to add new items to the list using append()\n",
    "list_2.append('Indian')\n",
    "list_2"
   ]
  },
  {
   "cell_type": "code",
   "execution_count": 37,
   "id": "15dc286d",
   "metadata": {},
   "outputs": [
    {
     "data": {
      "text/plain": [
       "[1, 2, [100, 200]]"
      ]
     },
     "execution_count": 37,
     "metadata": {},
     "output_type": "execute_result"
    }
   ],
   "source": [
    "#nested lists\n",
    "list_3 = [1,2,[100,200]]\n",
    "list_3"
   ]
  },
  {
   "cell_type": "code",
   "execution_count": 38,
   "id": "e8eb30c6",
   "metadata": {},
   "outputs": [
    {
     "data": {
      "text/plain": [
       "200"
      ]
     },
     "execution_count": 38,
     "metadata": {},
     "output_type": "execute_result"
    }
   ],
   "source": [
    "#grabbing 200 from list_3\n",
    "list_3[2][1]"
   ]
  },
  {
   "cell_type": "markdown",
   "id": "11618c45",
   "metadata": {},
   "source": [
    "### Dictionaries \n",
    "* {} and key:value pair\n",
    "* maintain no order"
   ]
  },
  {
   "cell_type": "code",
   "execution_count": 2,
   "id": "9a752612",
   "metadata": {},
   "outputs": [
    {
     "data": {
      "text/plain": [
       "'value2'"
      ]
     },
     "execution_count": 2,
     "metadata": {},
     "output_type": "execute_result"
    }
   ],
   "source": [
    "dict = {'key1':'value1', 'key2':'value2'}\n",
    "dict['key2']"
   ]
  },
  {
   "cell_type": "code",
   "execution_count": 3,
   "id": "1fb57d70",
   "metadata": {
    "scrolled": true
   },
   "outputs": [
    {
     "name": "stdout",
     "output_type": "stream",
     "text": [
      "{'key1': 'value1', 'key2': 'value2'}\n"
     ]
    }
   ],
   "source": [
    "print(dict)"
   ]
  },
  {
   "cell_type": "code",
   "execution_count": 4,
   "id": "f7e2096c",
   "metadata": {},
   "outputs": [
    {
     "data": {
      "text/plain": [
       "dict_keys(['key1', 'key2'])"
      ]
     },
     "execution_count": 4,
     "metadata": {},
     "output_type": "execute_result"
    }
   ],
   "source": [
    "dict.keys()"
   ]
  },
  {
   "cell_type": "code",
   "execution_count": 5,
   "id": "dddb1769",
   "metadata": {},
   "outputs": [
    {
     "data": {
      "text/plain": [
       "dict_items([('key1', 'value1'), ('key2', 'value2')])"
      ]
     },
     "execution_count": 5,
     "metadata": {},
     "output_type": "execute_result"
    }
   ],
   "source": [
    "dict.items()"
   ]
  },
  {
   "cell_type": "markdown",
   "id": "36979f36",
   "metadata": {},
   "source": [
    "### Tuples\n",
    "* ()\n",
    "* are immutable"
   ]
  },
  {
   "cell_type": "code",
   "execution_count": 41,
   "id": "e89ab2f5",
   "metadata": {},
   "outputs": [],
   "source": [
    "T = (1,2,3)"
   ]
  },
  {
   "cell_type": "code",
   "execution_count": 44,
   "id": "9613a7cd",
   "metadata": {},
   "outputs": [
    {
     "ename": "TypeError",
     "evalue": "'tuple' object does not support item assignment",
     "output_type": "error",
     "traceback": [
      "\u001b[1;31m---------------------------------------------------------------------------\u001b[0m",
      "\u001b[1;31mTypeError\u001b[0m                                 Traceback (most recent call last)",
      "\u001b[1;32m~\\AppData\\Local\\Temp/ipykernel_21720/943523014.py\u001b[0m in \u001b[0;36m<module>\u001b[1;34m\u001b[0m\n\u001b[1;32m----> 1\u001b[1;33m \u001b[0mT\u001b[0m\u001b[1;33m[\u001b[0m\u001b[1;36m0\u001b[0m\u001b[1;33m]\u001b[0m \u001b[1;33m=\u001b[0m \u001b[1;34m'NEW'\u001b[0m \u001b[1;31m#gives error because items can't be reassigned with new values in tuples\u001b[0m\u001b[1;33m\u001b[0m\u001b[1;33m\u001b[0m\u001b[0m\n\u001b[0m",
      "\u001b[1;31mTypeError\u001b[0m: 'tuple' object does not support item assignment"
     ]
    }
   ],
   "source": [
    "T[0] = 'NEW' #gives error because items can't be reassigned with new values in tuples"
   ]
  },
  {
   "cell_type": "markdown",
   "id": "92493dec",
   "metadata": {},
   "source": [
    "### Sets\n",
    "* unordered collection of unique elements"
   ]
  },
  {
   "cell_type": "code",
   "execution_count": 45,
   "id": "6c010c7b",
   "metadata": {},
   "outputs": [
    {
     "name": "stdout",
     "output_type": "stream",
     "text": [
      "{1, 2, 3}\n"
     ]
    }
   ],
   "source": [
    "S = {1,2,3}\n",
    "print(S)"
   ]
  },
  {
   "cell_type": "code",
   "execution_count": 47,
   "id": "ee7ce10b",
   "metadata": {},
   "outputs": [
    {
     "name": "stdout",
     "output_type": "stream",
     "text": [
      "{1, 2, 3, 4}\n"
     ]
    }
   ],
   "source": [
    "S_1 = {1,1,1,1,1,2,2,3,4,4}\n",
    "print(S_1) #prints only unique occurence"
   ]
  }
 ],
 "metadata": {
  "kernelspec": {
   "display_name": "Python 3 (ipykernel)",
   "language": "python",
   "name": "python3"
  },
  "language_info": {
   "codemirror_mode": {
    "name": "ipython",
    "version": 3
   },
   "file_extension": ".py",
   "mimetype": "text/x-python",
   "name": "python",
   "nbconvert_exporter": "python",
   "pygments_lexer": "ipython3",
   "version": "3.9.6"
  }
 },
 "nbformat": 4,
 "nbformat_minor": 5
}
