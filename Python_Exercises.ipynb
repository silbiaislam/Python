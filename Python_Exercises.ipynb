{
 "cells": [
  {
   "cell_type": "markdown",
   "id": "ba9465cd",
   "metadata": {},
   "source": [
    "# Basic Python Exercises"
   ]
  },
  {
   "cell_type": "markdown",
   "id": "d390a007",
   "metadata": {},
   "source": [
    "### Q1. What is 7 to the power of 4?"
   ]
  },
  {
   "cell_type": "code",
   "execution_count": 1,
   "id": "0ad79a49",
   "metadata": {},
   "outputs": [
    {
     "data": {
      "text/plain": [
       "2401"
      ]
     },
     "execution_count": 1,
     "metadata": {},
     "output_type": "execute_result"
    }
   ],
   "source": [
    "7**4"
   ]
  },
  {
   "cell_type": "markdown",
   "id": "746c2aeb",
   "metadata": {},
   "source": [
    "### Q2. Split this string:\n",
    "\n",
    "    s = \"Hi there Silbia!\"\n",
    "\n",
    "### into a list "
   ]
  },
  {
   "cell_type": "code",
   "execution_count": 2,
   "id": "25159d58",
   "metadata": {},
   "outputs": [],
   "source": [
    "s = \"Hi there Silbia!\""
   ]
  },
  {
   "cell_type": "code",
   "execution_count": 3,
   "id": "e1d0da72",
   "metadata": {},
   "outputs": [
    {
     "data": {
      "text/plain": [
       "['Hi', 'there', 'Silbia!']"
      ]
     },
     "execution_count": 3,
     "metadata": {},
     "output_type": "execute_result"
    }
   ],
   "source": [
    "s.split()"
   ]
  },
  {
   "cell_type": "markdown",
   "id": "854a8ac9",
   "metadata": {},
   "source": [
    "### Q3. Given the variables:\n",
    "    \n",
    "    planet = \"Earth\"\n",
    "    diameter = 12742\n",
    "\n",
    "### Use .formart() to print the following string\"\n",
    "    \n",
    "    The diameter of Earth is 12742 kilometers."
   ]
  },
  {
   "cell_type": "code",
   "execution_count": 5,
   "id": "311b2ff9",
   "metadata": {},
   "outputs": [
    {
     "name": "stdout",
     "output_type": "stream",
     "text": [
      "The diameter of Earth is 12742 kilometers.\n"
     ]
    }
   ],
   "source": [
    "planet = \"Earth\"\n",
    "diameter = 12742\n",
    "\n",
    "print(\"The diameter of {} is {} kilometers.\".format(planet,diameter))"
   ]
  },
  {
   "cell_type": "markdown",
   "id": "b3e3e78d",
   "metadata": {},
   "source": [
    "### Q4. Given this nested list, ude indexing to grab the word \"Silbia\""
   ]
  },
  {
   "cell_type": "code",
   "execution_count": 8,
   "id": "e5234577",
   "metadata": {},
   "outputs": [],
   "source": [
    "list = [1,2,[3,4],[5,[100,200,['Silbia']],23,11],1,7]"
   ]
  },
  {
   "cell_type": "code",
   "execution_count": 13,
   "id": "54ea8ec1",
   "metadata": {},
   "outputs": [
    {
     "data": {
      "text/plain": [
       "'Silbia'"
      ]
     },
     "execution_count": 13,
     "metadata": {},
     "output_type": "execute_result"
    }
   ],
   "source": [
    "list[3][1][2][0]"
   ]
  },
  {
   "cell_type": "markdown",
   "id": "7e7b7629",
   "metadata": {},
   "source": [
    "### Q5. Given this nested dictionary grab the word \"Silbia\". "
   ]
  },
  {
   "cell_type": "code",
   "execution_count": 15,
   "id": "a8b47f8c",
   "metadata": {},
   "outputs": [],
   "source": [
    "d = {'k1':[1,2,3,{'tricky':['oh','man','inception',{'target':[1,2,3,'Silbia']}]}]}"
   ]
  },
  {
   "cell_type": "code",
   "execution_count": 20,
   "id": "0a11af05",
   "metadata": {},
   "outputs": [
    {
     "data": {
      "text/plain": [
       "'Silbia'"
      ]
     },
     "execution_count": 20,
     "metadata": {},
     "output_type": "execute_result"
    }
   ],
   "source": [
    "d['k1'][3]['tricky'][3]['target'][3]"
   ]
  },
  {
   "cell_type": "markdown",
   "id": "1d381937",
   "metadata": {},
   "source": [
    "### Q6. What is the main difference between a tuple and a list?"
   ]
  },
  {
   "cell_type": "code",
   "execution_count": 22,
   "id": "da10f189",
   "metadata": {},
   "outputs": [],
   "source": [
    "# Tuple is immutable"
   ]
  },
  {
   "cell_type": "markdown",
   "id": "c10eb0e7",
   "metadata": {},
   "source": [
    "### Q7. Create a function that grabs the email website domain from a string in the form:\n",
    "\n",
    "    user@domain.com\n",
    "    \n",
    "### So for example, passing \"user@domain.com\" would return: domain.com"
   ]
  },
  {
   "cell_type": "code",
   "execution_count": 27,
   "id": "c8bac183",
   "metadata": {},
   "outputs": [],
   "source": [
    "def domain_get(email):\n",
    "    return email.split('@')[-1]"
   ]
  },
  {
   "cell_type": "code",
   "execution_count": 28,
   "id": "5fef244b",
   "metadata": {},
   "outputs": [
    {
     "data": {
      "text/plain": [
       "'domain.com'"
      ]
     },
     "execution_count": 28,
     "metadata": {},
     "output_type": "execute_result"
    }
   ],
   "source": [
    "domain_get('user@domain.com')"
   ]
  },
  {
   "cell_type": "markdown",
   "id": "2bec32f2",
   "metadata": {},
   "source": [
    "### Q8. Create a basic function that returns True if the word 'dog' is contianed in the input string. Don't worry about edge cases like a punctuation being attached to the word dog, but do account for capitalzation."
   ]
  },
  {
   "cell_type": "code",
   "execution_count": 3,
   "id": "b0a4695d",
   "metadata": {},
   "outputs": [],
   "source": [
    "def look_word(s):\n",
    "    return 'dog' in s.lower()"
   ]
  },
  {
   "cell_type": "code",
   "execution_count": 4,
   "id": "91a8896d",
   "metadata": {},
   "outputs": [
    {
     "data": {
      "text/plain": [
       "True"
      ]
     },
     "execution_count": 4,
     "metadata": {},
     "output_type": "execute_result"
    }
   ],
   "source": [
    "look_word('Is there a dog in this?')"
   ]
  },
  {
   "cell_type": "code",
   "execution_count": 5,
   "id": "f1e6a1f0",
   "metadata": {},
   "outputs": [
    {
     "data": {
      "text/plain": [
       "True"
      ]
     },
     "execution_count": 5,
     "metadata": {},
     "output_type": "execute_result"
    }
   ],
   "source": [
    "'a' in 'apple'"
   ]
  },
  {
   "cell_type": "markdown",
   "id": "3b93e8e1",
   "metadata": {},
   "source": [
    "### Q9. Create a function that counts the number of times the word \"dog\" occurs in a string. Again ignore edge cases."
   ]
  },
  {
   "cell_type": "code",
   "execution_count": 6,
   "id": "cea440c5",
   "metadata": {},
   "outputs": [],
   "source": [
    "def countDog(st):\n",
    "    count = 0\n",
    "    for word in st.lower().split():\n",
    "        if word == 'dog':\n",
    "            count += 1\n",
    "    return count"
   ]
  },
  {
   "cell_type": "code",
   "execution_count": 8,
   "id": "55a9223e",
   "metadata": {},
   "outputs": [
    {
     "data": {
      "text/plain": [
       "3"
      ]
     },
     "execution_count": 8,
     "metadata": {},
     "output_type": "execute_result"
    }
   ],
   "source": [
    "countDog(\"Dog here, dog there, dog everywhere!\")"
   ]
  },
  {
   "cell_type": "markdown",
   "id": "48cf1159",
   "metadata": {},
   "source": [
    "### Q10. You are driving a little too fast and a police officer stops you. Write a function to return one of 3 possible results: \"No ticket\", \"Small ticket\", or \"Big ticket\". If your speed is 60 or less, the result is \"No Ticket\". If the speed is between 61 and 80 inclusive, the result is \"Small Ticket\". If speed is 81 or more, the result is \"Big Ticket\". Unless it is your birthday (encoded as a boolean value in the parameters of the function) -- on your birthday, your speed can be 5 higher in all cases."
   ]
  },
  {
   "cell_type": "code",
   "execution_count": 9,
   "id": "6badabfa",
   "metadata": {},
   "outputs": [],
   "source": [
    "def caught_speeding(speed, is_birthday):\n",
    "    \n",
    "    if is_birthday:\n",
    "        speeding = speed - 5\n",
    "    else:\n",
    "        speeding = speed\n",
    "    \n",
    "    if speeding > 80:\n",
    "        return 'Big Ticket'\n",
    "    elif speeding > 60:\n",
    "        return 'Small Ticket'\n",
    "    else:\n",
    "        return 'No Ticket'\n"
   ]
  },
  {
   "cell_type": "code",
   "execution_count": 10,
   "id": "8f195efc",
   "metadata": {},
   "outputs": [
    {
     "data": {
      "text/plain": [
       "'Small Ticket'"
      ]
     },
     "execution_count": 10,
     "metadata": {},
     "output_type": "execute_result"
    }
   ],
   "source": [
    "caught_speeding(81,True)"
   ]
  },
  {
   "cell_type": "code",
   "execution_count": 11,
   "id": "4d8e3d37",
   "metadata": {},
   "outputs": [
    {
     "data": {
      "text/plain": [
       "'Big Ticket'"
      ]
     },
     "execution_count": 11,
     "metadata": {},
     "output_type": "execute_result"
    }
   ],
   "source": [
    "caught_speeding(81,False)"
   ]
  },
  {
   "cell_type": "markdown",
   "id": "1113c143",
   "metadata": {},
   "source": [
    "# Thank You !"
   ]
  }
 ],
 "metadata": {
  "kernelspec": {
   "display_name": "Python 3 (ipykernel)",
   "language": "python",
   "name": "python3"
  },
  "language_info": {
   "codemirror_mode": {
    "name": "ipython",
    "version": 3
   },
   "file_extension": ".py",
   "mimetype": "text/x-python",
   "name": "python",
   "nbconvert_exporter": "python",
   "pygments_lexer": "ipython3",
   "version": "3.9.6"
  }
 },
 "nbformat": 4,
 "nbformat_minor": 5
}
